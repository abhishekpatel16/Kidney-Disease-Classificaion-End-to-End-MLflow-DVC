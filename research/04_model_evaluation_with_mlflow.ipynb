{
 "cells": [
  {
   "cell_type": "code",
   "execution_count": 1,
   "metadata": {},
   "outputs": [],
   "source": [
    "import os  # Import the os module to interact with the operating system\n"
   ]
  },
  {
   "cell_type": "code",
   "execution_count": 2,
   "metadata": {},
   "outputs": [
    {
     "data": {
      "text/plain": [
       "'c:\\\\Users\\\\ayupt\\\\Desktop\\\\Data Science Projects\\\\End to End Deployment\\\\Kidney-Disease-Classificaion-End-to-End-MLflow-DVC\\\\research'"
      ]
     },
     "execution_count": 2,
     "metadata": {},
     "output_type": "execute_result"
    }
   ],
   "source": [
    "%pwd  # This is a Jupyter Notebook magic command to display the current working directory\n"
   ]
  },
  {
   "cell_type": "code",
   "execution_count": 3,
   "metadata": {},
   "outputs": [],
   "source": [
    "os.chdir(\"../\")  # Change the current working directory to the parent directory\n"
   ]
  },
  {
   "cell_type": "code",
   "execution_count": 4,
   "metadata": {},
   "outputs": [
    {
     "data": {
      "text/plain": [
       "'c:\\\\Users\\\\ayupt\\\\Desktop\\\\Data Science Projects\\\\End to End Deployment\\\\Kidney-Disease-Classificaion-End-to-End-MLflow-DVC'"
      ]
     },
     "execution_count": 4,
     "metadata": {},
     "output_type": "execute_result"
    }
   ],
   "source": [
    "%pwd  # Again, display the updated working directory to confirm the change\n"
   ]
  },
  {
   "cell_type": "code",
   "execution_count": 5,
   "metadata": {},
   "outputs": [],
   "source": [
    "# Set the MLflow tracking server URI (DagsHub in this case)\n",
    "os.environ[\"MLFLOW_TRACKING_URI\"] = \"https://dagshub.com/abhishekpatel16/Kidney-Disease-Classificaion-End-to-End-MLflow-DVC.mlflow\"\n",
    "\n",
    "# Set MLflow authentication credentials (username and password)\n",
    "os.environ[\"MLFLOW_TRACKING_USERNAME\"] = \"abhishekpatel16\"\n",
    "os.environ[\"MLFLOW_TRACKING_PASSWORD\"] = \"6e859ec1ff2f86d80684bc1de31e51d799188b7b\"  # Replace with a secure method instead of hardcoding"
   ]
  },
  {
   "cell_type": "code",
   "execution_count": 6,
   "metadata": {},
   "outputs": [],
   "source": [
    "import tensorflow as tf # Import TensorFlow library\n"
   ]
  },
  {
   "cell_type": "code",
   "execution_count": 7,
   "metadata": {},
   "outputs": [],
   "source": [
    "# Load the pre-trained model from the specified file path\n",
    "model = tf.keras.models.load_model(\"artifacts/training/model.h5\")\n"
   ]
  },
  {
   "cell_type": "code",
   "execution_count": 8,
   "metadata": {},
   "outputs": [],
   "source": [
    "# Import required modules\n",
    "from dataclasses import dataclass  # Provides a decorator to create immutable data classes\n",
    "from pathlib import Path  # Used for handling file system paths\n",
    "\n",
    "# Define an immutable data class to store evaluation configuration\n",
    "@dataclass(frozen=True)  # frozen=True makes the class immutable\n",
    "class EvaluationConfig:\n",
    "    path_of_model: Path  # Path to the trained model file\n",
    "    training_data: Path  # Path to the training dataset\n",
    "    all_params: dict  # Dictionary containing all hyperparameters and settings\n",
    "    mlflow_uri: str  # URI for MLflow tracking\n",
    "    params_image_size: list  # Image size parameter (e.g., [224, 224] for image input)\n",
    "    params_batch_size: int  # Batch size for processing data"
   ]
  },
  {
   "cell_type": "code",
   "execution_count": 9,
   "metadata": {},
   "outputs": [],
   "source": [
    "# Import all constants from the constants module inside cnnClassifier\n",
    "# These constants may include paths, model parameters, and other fixed values\n",
    "from cnnClassifier.constants import *  \n",
    "\n",
    "# Import specific utility functions from the common module inside cnnClassifier.utils\n",
    "from cnnClassifier.utils.common import (  \n",
    "    read_yaml,        # Function to read YAML configuration files and return data as a dictionary\n",
    "    create_directories,  # Function to create directories if they don’t exist\n",
    "    save_json         # Function to save a dictionary or object into a JSON file\n",
    ")\n"
   ]
  },
  {
   "cell_type": "code",
   "execution_count": 10,
   "metadata": {},
   "outputs": [],
   "source": [
    "class ConfigurationManager:\n",
    "    \"\"\"\n",
    "    ConfigurationManager is responsible for reading configuration files and setting up necessary directories.\n",
    "    It also provides methods to retrieve different configurations required for model training and evaluation.\n",
    "    \"\"\"\n",
    "\n",
    "    def __init__(\n",
    "        self, \n",
    "        config_filepath=CONFIG_FILE_PATH,  # Default path for the configuration YAML file\n",
    "        params_filepath=PARAMS_FILE_PATH   # Default path for the parameters YAML file\n",
    "    ):\n",
    "        \"\"\"\n",
    "        Initializes the ConfigurationManager by reading the configuration and parameter files,\n",
    "        and ensuring that necessary directories exist.\n",
    "        \"\"\"\n",
    "        self.config = read_yaml(config_filepath)  # Read the main configuration file into a dictionary\n",
    "        self.params = read_yaml(params_filepath)  # Read the parameters file into a dictionary\n",
    "\n",
    "        # Create required directories as specified in the configuration file\n",
    "        create_directories([self.config.artifacts_root])\n",
    "\n",
    "    def get_evaluation_config(self) -> EvaluationConfig:\n",
    "        \"\"\"\n",
    "        Creates and returns an EvaluationConfig object with predefined paths and parameters.\n",
    "\n",
    "        Returns:\n",
    "            EvaluationConfig: A dataclass instance containing all necessary paths and evaluation parameters.\n",
    "        \"\"\"\n",
    "        eval_config = EvaluationConfig(\n",
    "            path_of_model=\"artifacts/training/model.h5\",  # Path where the trained model is stored\n",
    "            training_data=\"artifacts/data_ingestion/kidney-ct-scan-image\",  # Path to training dataset\n",
    "            mlflow_uri=\"https://dagshub.com/abhishekpatel16/Kidney-Disease-Classificaion-End-to-End-MLflow-DVC.mlflow\",  # MLflow tracking URI\n",
    "            all_params=self.params,  # Dictionary of all model parameters from params.yaml\n",
    "            params_image_size=self.params.IMAGE_SIZE,  # Image size for preprocessing\n",
    "            params_batch_size=self.params.BATCH_SIZE  # Batch size for model training/evaluation\n",
    "        )\n",
    "        return eval_config  # Return the configuration object\n"
   ]
  },
  {
   "cell_type": "code",
   "execution_count": 11,
   "metadata": {},
   "outputs": [],
   "source": [
    "# Import TensorFlow library for building and training deep learning models\n",
    "import tensorflow as tf  \n",
    "\n",
    "# Import Path class from pathlib for handling file and directory paths\n",
    "from pathlib import Path  \n",
    "\n",
    "# Import MLflow for tracking experiments and managing model lifecycle\n",
    "import mlflow  \n",
    "\n",
    "# Import MLflow Keras module for logging and loading Keras models with MLflow\n",
    "import mlflow.keras  \n",
    "\n",
    "# Import urlparse from urllib.parse for parsing and handling URLs\n",
    "from urllib.parse import urlparse  \n"
   ]
  },
  {
   "cell_type": "code",
   "execution_count": 12,
   "metadata": {},
   "outputs": [],
   "source": [
    "class Evaluation:\n",
    "    \"\"\"\n",
    "    Evaluation class to load a trained model, evaluate its performance, \n",
    "    and log results into MLflow.\n",
    "    \"\"\"\n",
    "\n",
    "    def __init__(self, config: EvaluationConfig):\n",
    "        \"\"\"\n",
    "        Initializes the Evaluation class with the provided configuration.\n",
    "\n",
    "        Args:\n",
    "            config (EvaluationConfig): Configuration settings for evaluation.\n",
    "        \"\"\"\n",
    "        self.config = config  # Store evaluation configuration\n",
    "\n",
    "    def _valid_generator(self):\n",
    "        \"\"\"\n",
    "        Creates a validation data generator for model evaluation.\n",
    "        \"\"\"\n",
    "\n",
    "        # Define preprocessing parameters for image data generator\n",
    "        datagenerator_kwargs = dict(\n",
    "            rescale=1./255,  # Normalize pixel values to [0, 1]\n",
    "            validation_split=0.30  # Use 30% of the dataset for validation\n",
    "        )\n",
    "\n",
    "        # Define parameters for data loading\n",
    "        dataflow_kwargs = dict(\n",
    "            target_size=self.config.params_image_size[:-1],  # Resize images to match model input size\n",
    "            batch_size=self.config.params_batch_size,  # Batch size for validation data\n",
    "            interpolation=\"bilinear\"  # Use bilinear interpolation for resizing\n",
    "        )\n",
    "\n",
    "        # Create an image data generator for validation set\n",
    "        valid_datagenerator = tf.keras.preprocessing.image.ImageDataGenerator(\n",
    "            **datagenerator_kwargs\n",
    "        )\n",
    "\n",
    "        # Load validation data from the dataset directory\n",
    "        self.valid_generator = valid_datagenerator.flow_from_directory(\n",
    "            directory=self.config.training_data,  # Path to training data\n",
    "            subset=\"validation\",  # Load only validation subset\n",
    "            shuffle=False,  # Do not shuffle validation data\n",
    "            **dataflow_kwargs  # Pass additional arguments for data loading\n",
    "        )\n",
    "\n",
    "    @staticmethod\n",
    "    def load_model(path: Path) -> tf.keras.Model:\n",
    "        \"\"\"\n",
    "        Loads a pre-trained Keras model from the given file path.\n",
    "\n",
    "        Args:\n",
    "            path (Path): Path to the saved model file.\n",
    "\n",
    "        Returns:\n",
    "            tf.keras.Model: Loaded Keras model.\n",
    "        \"\"\"\n",
    "        return tf.keras.models.load_model(path)\n",
    "\n",
    "    def evaluation(self):\n",
    "        \"\"\"\n",
    "        Evaluates the model on the validation dataset and saves the results.\n",
    "        \"\"\"\n",
    "        self.model = self.load_model(self.config.path_of_model)  # Load trained model\n",
    "        self._valid_generator()  # Initialize validation data generator\n",
    "        self.score = self.model.evaluate(self.valid_generator)  # Evaluate model performance\n",
    "        self.save_score()  # Save the evaluation results\n",
    "\n",
    "    def save_score(self):\n",
    "        \"\"\"\n",
    "        Saves evaluation scores (loss and accuracy) as a JSON file.\n",
    "        \"\"\"\n",
    "        scores = {\"loss\": self.score[0], \"accuracy\": self.score[1]}  # Extract loss and accuracy\n",
    "        save_json(path=Path(\"scores.json\"), data=scores)  # Save scores as a JSON file\n",
    "\n",
    "    def log_into_mlflow(self):\n",
    "        \"\"\"\n",
    "        Logs model parameters and evaluation metrics into MLflow.\n",
    "        \"\"\"\n",
    "        mlflow.set_registry_uri(self.config.mlflow_uri)  # Set MLflow tracking URI\n",
    "        tracking_url_type_store = urlparse(mlflow.get_tracking_uri()).scheme  # Parse the tracking URL type\n",
    "\n",
    "        with mlflow.start_run():  # Start a new MLflow run\n",
    "            mlflow.log_params(self.config.all_params)  # Log all model parameters\n",
    "            mlflow.log_metrics(\n",
    "                {\"loss\": self.score[0], \"accuracy\": self.score[1]}  # Log evaluation metrics\n",
    "            )\n",
    "\n",
    "            # Check if MLflow is using a file-based storage\n",
    "            if tracking_url_type_store != \"file\":\n",
    "                # Register the model in MLflow Model Registry\n",
    "                # If using MLflow's tracking server, models can be versioned and stored\n",
    "                mlflow.keras.log_model(self.model, \"model\", registered_model_name=\"VGG16Model\")\n",
    "            else:\n",
    "                # Log the model without registering (for local file storage)\n",
    "                mlflow.keras.log_model(self.model, \"model\")\n"
   ]
  },
  {
   "cell_type": "code",
   "execution_count": 13,
   "metadata": {},
   "outputs": [
    {
     "name": "stdout",
     "output_type": "stream",
     "text": [
      "[2025-02-15 18:35:54,584: INFO: common: YAML file: config\\config.yaml loaded successfully]\n",
      "[2025-02-15 18:35:54,619: INFO: common: YAML file: params.yaml loaded successfully]\n",
      "[2025-02-15 18:35:54,624: INFO: common: Created directory at: artifacts]\n",
      "Found 139 images belonging to 2 classes.\n",
      "9/9 [==============================] - 65s 7s/step - loss: 10.2148 - accuracy: 0.5036\n",
      "[2025-02-15 18:37:01,858: INFO: common: JSON file saved at: scores.json]\n"
     ]
    },
    {
     "name": "stderr",
     "output_type": "stream",
     "text": [
      "2025/02/15 18:37:04 WARNING mlflow.tensorflow: You are saving a TensorFlow Core model or Keras model without a signature. Inference with mlflow.pyfunc.spark_udf() will not work unless the model's pyfunc representation accepts pandas DataFrames as inference inputs.\n"
     ]
    },
    {
     "name": "stdout",
     "output_type": "stream",
     "text": [
      "[2025-02-15 18:37:08,704: WARNING: save: Found untraced functions such as _jit_compiled_convolution_op, _jit_compiled_convolution_op, _jit_compiled_convolution_op, _jit_compiled_convolution_op, _jit_compiled_convolution_op while saving (showing 5 of 14). These functions will not be directly callable after loading.]\n",
      "INFO:tensorflow:Assets written to: C:\\Users\\ayupt\\AppData\\Local\\Temp\\tmpuj6e4scm\\model\\data\\model\\assets\n",
      "[2025-02-15 18:37:10,730: INFO: builder_impl: Assets written to: C:\\Users\\ayupt\\AppData\\Local\\Temp\\tmpuj6e4scm\\model\\data\\model\\assets]\n"
     ]
    },
    {
     "name": "stderr",
     "output_type": "stream",
     "text": [
      "c:\\Users\\ayupt\\anaconda3\\envs\\kidneyproj\\lib\\site-packages\\_distutils_hack\\__init__.py:31: UserWarning: Setuptools is replacing distutils. Support for replacing an already imported distutils is deprecated. In the future, this condition will fail. Register concerns at https://github.com/pypa/setuptools/issues/new?template=distutils-deprecation.yml\n",
      "  warnings.warn(\n",
      "Registered model 'VGG16Model' already exists. Creating a new version of this model...\n",
      "2025/02/15 18:38:35 INFO mlflow.tracking._model_registry.client: Waiting up to 300 seconds for model version to finish creation.                     Model name: VGG16Model, version 2\n",
      "Created version '2' of model 'VGG16Model'.\n"
     ]
    }
   ],
   "source": [
    "try:\n",
    "    # Create an instance of ConfigurationManager to load configurations\n",
    "    config = ConfigurationManager()\n",
    "\n",
    "    # Retrieve the evaluation configuration settings\n",
    "    eval_config = config.get_evaluation_config()\n",
    "\n",
    "    # Create an Evaluation instance with the retrieved configuration\n",
    "    evaluation = Evaluation(eval_config)\n",
    "\n",
    "    # Perform model evaluation using the validation dataset\n",
    "    evaluation.evaluation()\n",
    "\n",
    "    # Log evaluation metrics and model details into MLflow\n",
    "    evaluation.log_into_mlflow()\n",
    "\n",
    "# Catch any exceptions that occur during the execution of the above code\n",
    "except Exception as e:\n",
    "    # Raise the caught exception to display the error message\n",
    "    raise e\n"
   ]
  },
  {
   "cell_type": "code",
   "execution_count": null,
   "metadata": {},
   "outputs": [],
   "source": []
  }
 ],
 "metadata": {
  "kernelspec": {
   "display_name": "kidneyproj",
   "language": "python",
   "name": "python3"
  },
  "language_info": {
   "codemirror_mode": {
    "name": "ipython",
    "version": 3
   },
   "file_extension": ".py",
   "mimetype": "text/x-python",
   "name": "python",
   "nbconvert_exporter": "python",
   "pygments_lexer": "ipython3",
   "version": "3.8.20"
  }
 },
 "nbformat": 4,
 "nbformat_minor": 2
}
