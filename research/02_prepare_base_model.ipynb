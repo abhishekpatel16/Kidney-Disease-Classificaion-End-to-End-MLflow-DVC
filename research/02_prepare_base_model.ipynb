{
 "cells": [
  {
   "cell_type": "code",
   "execution_count": 1,
   "metadata": {},
   "outputs": [],
   "source": [
    "import os  # Import the os module to interact with the operating system\n"
   ]
  },
  {
   "cell_type": "code",
   "execution_count": 2,
   "metadata": {},
   "outputs": [
    {
     "data": {
      "text/plain": [
       "'c:\\\\Users\\\\ayupt\\\\Desktop\\\\Data Science Projects\\\\End to End Deployment\\\\Kidney-Disease-Classificaion-End-to-End-MLflow-DVC\\\\research'"
      ]
     },
     "execution_count": 2,
     "metadata": {},
     "output_type": "execute_result"
    }
   ],
   "source": [
    "%pwd  # This is a Jupyter Notebook magic command to display the current working directory\n"
   ]
  },
  {
   "cell_type": "code",
   "execution_count": 3,
   "metadata": {},
   "outputs": [],
   "source": [
    "os.chdir(\"../\")  # Change the current working directory to the parent directory\n"
   ]
  },
  {
   "cell_type": "code",
   "execution_count": 4,
   "metadata": {},
   "outputs": [
    {
     "data": {
      "text/plain": [
       "'c:\\\\Users\\\\ayupt\\\\Desktop\\\\Data Science Projects\\\\End to End Deployment\\\\Kidney-Disease-Classificaion-End-to-End-MLflow-DVC'"
      ]
     },
     "execution_count": 4,
     "metadata": {},
     "output_type": "execute_result"
    }
   ],
   "source": [
    "%pwd  # Again, display the updated working directory to confirm the change\n"
   ]
  },
  {
   "cell_type": "code",
   "execution_count": 5,
   "metadata": {},
   "outputs": [],
   "source": [
    "from dataclasses import dataclass  # Importing dataclass to create immutable data structures\n",
    "from pathlib import Path  # Importing Path to handle file system paths\n",
    "\n",
    "# Defining a data class to store configuration settings for preparing a base model\n",
    "@dataclass(frozen=True)  # `frozen=True` makes the data class immutable\n",
    "class PrepareBaseModelConfig:\n",
    "    root_dir: Path  # The root directory for the project\n",
    "    base_model_path: Path  # Path to the pre-trained base model\n",
    "    updated_base_model_path: Path  # Path where the updated model will be saved\n",
    "    params_image_size: list  # The size of input images (e.g., [224, 224, 3])\n",
    "    params_learning_rate: float  # Learning rate for training the model\n",
    "    params_include_top: bool  # Whether to include the top layer of the base model\n",
    "    params_weights: str  # Path or identifier for the pre-trained weights (e.g., \"imagenet\")\n",
    "    params_classes: int  # Number of output classes for classification\n",
    "\n"
   ]
  },
  {
   "cell_type": "code",
   "execution_count": 6,
   "metadata": {},
   "outputs": [],
   "source": [
    "# Importing all constants defined in the constants module\n",
    "from cnnClassifier.constants import *  \n",
    "\n",
    "# Importing utility functions for reading YAML files and creating directories\n",
    "from cnnClassifier.utils.common import read_yaml, create_directories  \n"
   ]
  },
  {
   "cell_type": "code",
   "execution_count": 7,
   "metadata": {},
   "outputs": [],
   "source": [
    "class ConfigurationManager:\n",
    "    def __init__(\n",
    "        self,\n",
    "        config_filepath=CONFIG_FILE_PATH,  # Path to the main config file\n",
    "        params_filepath=PARAMS_FILE_PATH  # Path to the parameters config file\n",
    "    ):\n",
    "        # Read configuration files\n",
    "        self.config = read_yaml(config_filepath)  # Load main YAML config\n",
    "        self.params = read_yaml(params_filepath)  # Load parameters YAML config\n",
    "\n",
    "        # Create necessary directories for storing artifacts\n",
    "        create_directories([self.config.artifacts_root])\n",
    "\n",
    "    def get_prepare_base_model_config(self) -> PrepareBaseModelConfig:\n",
    "        \"\"\"\n",
    "        Retrieves and prepares the configuration for the base model setup.\n",
    "        Returns an instance of `PrepareBaseModelConfig`.\n",
    "        \"\"\"\n",
    "        config = self.config.prepare_base_model  # Extract base model config section\n",
    "        \n",
    "        # Ensure the root directory for preparing the base model exists\n",
    "        create_directories([config.root_dir])\n",
    "\n",
    "        # Create and return a PrepareBaseModelConfig instance with required parameters\n",
    "        prepare_base_model_config = PrepareBaseModelConfig(\n",
    "            root_dir=Path(config.root_dir),  # Convert to Path object for better handling\n",
    "            base_model_path=Path(config.base_model_path),  # Path to the pre-trained model\n",
    "            updated_base_model_path=Path(config.updated_base_model_path),  # Path for saving the updated model\n",
    "            params_image_size=self.params.IMAGE_SIZE,  # Image size for training\n",
    "            params_learning_rate=self.params.LEARNING_RATE,  # Learning rate for training\n",
    "            params_include_top=self.params.INCLUDE_TOP,  # Whether to include the top layer\n",
    "            params_weights=self.params.WEIGHTS,  # Pre-trained weights to use\n",
    "            params_classes=self.params.CLASSES  # Number of output classes\n",
    "        )\n",
    "\n",
    "        return prepare_base_model_config  # Return the configuration object\n"
   ]
  },
  {
   "cell_type": "code",
   "execution_count": 9,
   "metadata": {},
   "outputs": [],
   "source": [
    "import os  # Importing the os module to interact with the operating system (e.g., file paths, directories)\n",
    "\n",
    "import urllib.request as request  # Importing urllib's request module to handle downloading files from a URL\n",
    "\n",
    "from zipfile import ZipFile  # Importing ZipFile to work with zip archives (extracting or compressing files)\n",
    "\n",
    "import tensorflow as tf  # Importing TensorFlow for deep learning model training and inference\n"
   ]
  },
  {
   "cell_type": "code",
   "execution_count": 10,
   "metadata": {},
   "outputs": [],
   "source": [
    "class PrepareBaseModel:\n",
    "    def __init__(self, config: PrepareBaseModelConfig):\n",
    "        \"\"\"\n",
    "        Initializes the PrepareBaseModel class with the provided configuration.\n",
    "        \n",
    "        Args:\n",
    "            config (PrepareBaseModelConfig): Configuration object containing model settings.\n",
    "        \"\"\"\n",
    "        self.config = config  # Storing configuration object\n",
    "\n",
    "    def get_base_model(self):\n",
    "        \"\"\"\n",
    "        Loads the pre-trained VGG16 model with specified configurations and saves it.\n",
    "        \"\"\"\n",
    "        # Load VGG16 model with specified parameters\n",
    "        self.model = tf.keras.applications.vgg16.VGG16(\n",
    "            input_shape=self.config.params_image_size,  # Input image dimensions\n",
    "            weights=self.config.params_weights,  # Pre-trained weights (e.g., \"imagenet\")\n",
    "            include_top=self.config.params_include_top  # Whether to include the top layer\n",
    "        )\n",
    "\n",
    "        # Save the base model to the specified path\n",
    "        self.save_model(path=self.config.base_model_path, model=self.model)\n",
    "\n",
    "    @staticmethod\n",
    "    def _prepare_full_model(model, classes, freeze_all, freeze_till, learning_rate):\n",
    "        \"\"\"\n",
    "        Prepares the full model by adding a custom classifier on top of the base model.\n",
    "\n",
    "        Args:\n",
    "            model (tf.keras.Model): Base model (e.g., VGG16).\n",
    "            classes (int): Number of output classes.\n",
    "            freeze_all (bool): Whether to freeze all layers.\n",
    "            freeze_till (int or None): Number of layers to keep trainable (if None, all are frozen).\n",
    "            learning_rate (float): Learning rate for the optimizer.\n",
    "\n",
    "        Returns:\n",
    "            full_model (tf.keras.Model): The compiled model ready for training.\n",
    "        \"\"\"\n",
    "        if freeze_all:\n",
    "            for layer in model.layers:\n",
    "                layer.trainable = False  # Freeze all layers\n",
    "        elif (freeze_till is not None) and (freeze_till > 0):\n",
    "            for layer in model.layers[:-freeze_till]:  # Freeze all layers except the last `freeze_till`\n",
    "                layer.trainable = False\n",
    "\n",
    "        # Adding a Flatten layer to convert feature maps into a 1D vector\n",
    "        flatten_in = tf.keras.layers.Flatten()(model.output)\n",
    "\n",
    "        # Adding a Dense layer for classification with softmax activation\n",
    "        prediction = tf.keras.layers.Dense(\n",
    "            units=classes,  # Number of output classes\n",
    "            activation=\"softmax\"  # Activation function for multi-class classification\n",
    "        )(flatten_in)\n",
    "\n",
    "        # Creating the final model\n",
    "        full_model = tf.keras.models.Model(\n",
    "            inputs=model.input,\n",
    "            outputs=prediction\n",
    "        )\n",
    "\n",
    "        # Compiling the model with SGD optimizer and categorical cross-entropy loss\n",
    "        full_model.compile(\n",
    "            optimizer=tf.keras.optimizers.SGD(learning_rate=learning_rate),\n",
    "            loss=tf.keras.losses.CategoricalCrossentropy(),\n",
    "            metrics=[\"accuracy\"]  # Tracking accuracy during training\n",
    "        )\n",
    "\n",
    "        full_model.summary()  # Display model summary\n",
    "        return full_model  # Return the compiled model\n",
    "\n",
    "    def update_base_model(self):\n",
    "        \"\"\"\n",
    "        Updates the base model by adding a classification head and saving the updated model.\n",
    "        \"\"\"\n",
    "        self.full_model = self._prepare_full_model(\n",
    "            model=self.model,\n",
    "            classes=self.config.params_classes,  # Number of classes\n",
    "            freeze_all=True,  # Freezing all base model layers\n",
    "            freeze_till=None,  # Not unfreezing any layers\n",
    "            learning_rate=self.config.params_learning_rate  # Learning rate for training\n",
    "        )\n",
    "\n",
    "        # Save the updated model\n",
    "        self.save_model(path=self.config.updated_base_model_path, model=self.full_model)\n",
    "\n",
    "    @staticmethod\n",
    "    def save_model(path: Path, model: tf.keras.Model):\n",
    "        \"\"\"\n",
    "        Saves the given TensorFlow model to the specified path.\n",
    "\n",
    "        Args:\n",
    "            path (Path): The path where the model should be saved.\n",
    "            model (tf.keras.Model): The TensorFlow model to save.\n",
    "        \"\"\"\n",
    "        model.save(path)  # Save the model in HDF5 format\n"
   ]
  },
  {
   "cell_type": "code",
   "execution_count": null,
   "metadata": {},
   "outputs": [],
   "source": [
    "try:\n",
    "    # Create an instance of ConfigurationManager to handle configurations\n",
    "    config = ConfigurationManager()\n",
    "    \n",
    "    # Retrieve the configuration settings for preparing the base model\n",
    "    prepare_base_model_config = config.get_prepare_base_model_config()\n",
    "    \n",
    "    # Create an instance of PrepareBaseModel with the retrieved configuration\n",
    "    prepare_base_model = PrepareBaseModel(config=prepare_base_model_config)\n",
    "    \n",
    "    # Load and save the pre-trained base model (VGG16 in this case)\n",
    "    prepare_base_model.get_base_model()\n",
    "    \n",
    "    # Modify the base model by adding a classification head and save the updated model\n",
    "    prepare_base_model.update_base_model()\n",
    "\n",
    "except Exception as e:\n",
    "    # If any exception occurs during execution, raise it for debugging\n",
    "    raise e\n"
   ]
  },
  {
   "cell_type": "code",
   "execution_count": null,
   "metadata": {},
   "outputs": [],
   "source": []
  },
  {
   "cell_type": "code",
   "execution_count": null,
   "metadata": {},
   "outputs": [],
   "source": []
  },
  {
   "cell_type": "code",
   "execution_count": null,
   "metadata": {},
   "outputs": [],
   "source": []
  }
 ],
 "metadata": {
  "kernelspec": {
   "display_name": "kidneyproj",
   "language": "python",
   "name": "python3"
  },
  "language_info": {
   "codemirror_mode": {
    "name": "ipython",
    "version": 3
   },
   "file_extension": ".py",
   "mimetype": "text/x-python",
   "name": "python",
   "nbconvert_exporter": "python",
   "pygments_lexer": "ipython3",
   "version": "3.8.20"
  }
 },
 "nbformat": 4,
 "nbformat_minor": 2
}
