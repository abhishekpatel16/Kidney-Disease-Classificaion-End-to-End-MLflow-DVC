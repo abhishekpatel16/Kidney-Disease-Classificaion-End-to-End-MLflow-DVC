{
 "cells": [
  {
   "cell_type": "code",
   "execution_count": 1,
   "metadata": {},
   "outputs": [],
   "source": [
    "import os  # Import the os module to interact with the operating system\n"
   ]
  },
  {
   "cell_type": "code",
   "execution_count": 2,
   "metadata": {},
   "outputs": [
    {
     "data": {
      "text/plain": [
       "'c:\\\\Users\\\\ayupt\\\\Desktop\\\\Data Science Projects\\\\End to End Deployment\\\\Kidney-Disease-Classificaion-End-to-End-MLflow-DVC\\\\research'"
      ]
     },
     "execution_count": 2,
     "metadata": {},
     "output_type": "execute_result"
    }
   ],
   "source": [
    "%pwd  # This is a Jupyter Notebook magic command to display the current working directory\n"
   ]
  },
  {
   "cell_type": "code",
   "execution_count": 3,
   "metadata": {},
   "outputs": [],
   "source": [
    "os.chdir(\"../\")  # Change the current working directory to the parent directory\n"
   ]
  },
  {
   "cell_type": "code",
   "execution_count": 4,
   "metadata": {},
   "outputs": [
    {
     "data": {
      "text/plain": [
       "'c:\\\\Users\\\\ayupt\\\\Desktop\\\\Data Science Projects\\\\End to End Deployment\\\\Kidney-Disease-Classificaion-End-to-End-MLflow-DVC'"
      ]
     },
     "execution_count": 4,
     "metadata": {},
     "output_type": "execute_result"
    }
   ],
   "source": [
    "%pwd  # Again, display the updated working directory to confirm the change\n"
   ]
  },
  {
   "cell_type": "code",
   "execution_count": 5,
   "metadata": {},
   "outputs": [],
   "source": [
    "# Import necessary modules\n",
    "from dataclasses import dataclass  # Provides a decorator to create data classes\n",
    "from pathlib import Path  # Provides an object-oriented way to work with file system paths\n",
    "\n",
    "# Define a data class for data ingestion configuration\n",
    "@dataclass(frozen=True)  # `frozen=True` makes the class immutable (attributes cannot be modified after creation)\n",
    "class DataIngestionConfig:\n",
    "    root_dir: Path  # Path to the root directory where data will be stored\n",
    "    source_URL: str  # URL to download the dataset\n",
    "    local_data_file: Path  # Path to the local file where downloaded data will be stored\n",
    "    unzip_dir: Path  # Directory where the dataset will be extracted after unzipping\n"
   ]
  },
  {
   "cell_type": "code",
   "execution_count": 6,
   "metadata": {},
   "outputs": [],
   "source": [
    "# Import all constants from the cnnClassifier.constants module\n",
    "# This may include paths, URLs, or other predefined constant values\n",
    "from cnnClassifier.constants import *  \n",
    "\n",
    "# Import utility functions from the cnnClassifier.utils.common module\n",
    "from cnnClassifier.utils.common import read_yaml, create_directories  "
   ]
  },
  {
   "cell_type": "code",
   "execution_count": 7,
   "metadata": {},
   "outputs": [],
   "source": [
    "# Define a class to manage configuration settings\n",
    "class ConfigurationManager:\n",
    "    def __init__(\n",
    "        self,\n",
    "        config_filepath=CONFIG_FILE_PATH,  # Default path for the configuration file\n",
    "        params_filepath=PARAMS_FILE_PATH  # Default path for the parameters file\n",
    "    ):\n",
    "        # Read the configuration and parameters from YAML files\n",
    "        self.config = read_yaml(config_filepath)\n",
    "        self.params = read_yaml(params_filepath)\n",
    "\n",
    "        # Ensure that the artifact root directory exists\n",
    "        create_directories([self.config.artifacts_root])\n",
    "\n",
    "    # Method to get data ingestion configuration\n",
    "    def get_data_ingestion_config(self) -> DataIngestionConfig:\n",
    "        config = self.config.data_ingestion  # Extract the data ingestion section from the config\n",
    "\n",
    "        # Ensure the root directory for data ingestion exists\n",
    "        create_directories([config.root_dir])\n",
    "\n",
    "        # Create a DataIngestionConfig object with necessary parameters\n",
    "        data_ingestion_config = DataIngestionConfig(\n",
    "            root_dir=config.root_dir,\n",
    "            source_URL=config.source_URL,\n",
    "            local_data_file=config.local_data_file,\n",
    "            unzip_dir=config.unzip_dir \n",
    "        )\n",
    "\n",
    "        return data_ingestion_config  # Return the configuration object\n"
   ]
  },
  {
   "cell_type": "code",
   "execution_count": 8,
   "metadata": {},
   "outputs": [],
   "source": [
    "# Import necessary libraries\n",
    "import os  # Provides functions to interact with the operating system\n",
    "import zipfile  # Allows working with ZIP archives\n",
    "import gdown  # Used to download files from Google Drive\n",
    "\n",
    "# Import custom logger for logging messages\n",
    "from cnnClassifier import logger  \n",
    "\n",
    "# Import a utility function to get file sizes\n",
    "from cnnClassifier.utils.common import get_size  \n"
   ]
  },
  {
   "cell_type": "code",
   "execution_count": 9,
   "metadata": {},
   "outputs": [],
   "source": [
    "import os  # Importing os for file and directory operations\n",
    "import zipfile  # Importing zipfile to handle zip file extraction\n",
    "import gdown  # Importing gdown to download files from Google Drive\n",
    "import logging  # Importing logging to log messages and errors\n",
    "\n",
    "# Configuring the logger to track the execution process\n",
    "logger = logging.getLogger(__name__)\n",
    "\n",
    "class DataIngestion:\n",
    "    \"\"\"\n",
    "    This class handles the process of downloading a dataset from a URL \n",
    "    and extracting it to a specified directory.\n",
    "    \"\"\"\n",
    "\n",
    "    def __init__(self, config: DataIngestionConfig):\n",
    "        \"\"\"\n",
    "        Constructor method to initialize DataIngestion with a configuration object.\n",
    "\n",
    "        :param config: DataIngestionConfig object containing configuration parameters \n",
    "                       such as source URL, local file path, and unzip directory.\n",
    "        \"\"\"\n",
    "        self.config = config  # Storing the config object for later use\n",
    "\n",
    "    def download_file(self) -> str:\n",
    "        \"\"\"\n",
    "        Downloads a dataset from the provided URL and saves it locally.\n",
    "\n",
    "        :return: Path to the downloaded file as a string.\n",
    "        \"\"\"\n",
    "        try:\n",
    "            dataset_url = self.config.source_URL  # Extract dataset URL from config\n",
    "            zip_download_dir = self.config.local_data_file  # Extract local file path from config\n",
    "\n",
    "            # Ensure the parent directory of the download path exists\n",
    "            os.makedirs(os.path.dirname(zip_download_dir), exist_ok=True)  \n",
    "            \n",
    "            # Logging the download start\n",
    "            logger.info(f\"Downloading data from {dataset_url} into file {zip_download_dir}\")\n",
    "\n",
    "            # Extracting the file ID from the Google Drive URL (assuming it's a Google Drive link)\n",
    "            file_id = dataset_url.split(\"/\")[-2]  \n",
    "            \n",
    "            # Constructing the Google Drive download URL (potential issue: this format may not work)\n",
    "            prefix = 'https://drive.google.com/uc?/export=download&id='  \n",
    "            \n",
    "            # Downloading the file using gdown\n",
    "            gdown.download(prefix + file_id, zip_download_dir)\n",
    "\n",
    "            # Logging successful download\n",
    "            logger.info(f\"Downloaded data from {dataset_url} into file {zip_download_dir}\")\n",
    "\n",
    "            return zip_download_dir  # Returning the path of the downloaded file\n",
    "\n",
    "        except Exception as e:\n",
    "            logger.error(f\"Error in downloading file: {e}\")  # Logging error if download fails\n",
    "            raise e  # Raising the exception for debugging\n",
    "\n",
    "    def extract_zip_file(self):\n",
    "        \"\"\"\n",
    "        Extracts the downloaded zip file to the specified directory.\n",
    "\n",
    "        :return: None\n",
    "        \"\"\"\n",
    "        try:\n",
    "            unzip_path = self.config.unzip_dir  # Get the extraction directory from config\n",
    "            \n",
    "            # Ensure the directory for extraction exists\n",
    "            os.makedirs(unzip_path, exist_ok=True)  \n",
    "            \n",
    "            # Logging extraction start\n",
    "            logger.info(f\"Extracting files to {unzip_path}\")\n",
    "\n",
    "            # Open the zip file and extract its contents\n",
    "            with zipfile.ZipFile(self.config.local_data_file, 'r') as zip_ref:\n",
    "                zip_ref.extractall(unzip_path)  # Extract all files to the directory\n",
    "            \n",
    "            # Logging successful extraction\n",
    "            logger.info(f\"Extracted files to {unzip_path}\")\n",
    "\n",
    "        except zipfile.BadZipFile:\n",
    "            logger.error(\"Failed to extract zip file. The file might be corrupted.\")  # Log issue if file is corrupted\n",
    "            raise  # Raise error to notify about bad zip file\n",
    "\n",
    "        except Exception as e:\n",
    "            logger.error(f\"Error in extracting file: {e}\")  # Logging any other extraction errors\n",
    "            raise  # Raising exception for debugging\n"
   ]
  },
  {
   "cell_type": "code",
   "execution_count": 10,
   "metadata": {},
   "outputs": [
    {
     "name": "stdout",
     "output_type": "stream",
     "text": [
      "[2025-02-15 12:02:56,636: INFO: common: YAML file: config\\config.yaml loaded successfully]\n",
      "[2025-02-15 12:02:56,641: INFO: common: YAML file: params.yaml loaded successfully]\n",
      "[2025-02-15 12:02:56,644: INFO: common: Created directory at: artifacts]\n",
      "[2025-02-15 12:02:56,648: INFO: common: Created directory at: artifacts/data_ingestion]\n",
      "[2025-02-15 12:02:56,651: INFO: 2013711394: Downloading data from https://drive.google.com/file/d/1vlhZ5c7abUKF8xXERIw6m9Te8fW7ohw3/view?usp=sharing into file artifacts/data_ingestion/data.zip]\n"
     ]
    },
    {
     "name": "stderr",
     "output_type": "stream",
     "text": [
      "Downloading...\n",
      "From (original): https://drive.google.com/uc?/export=download&id=1vlhZ5c7abUKF8xXERIw6m9Te8fW7ohw3\n",
      "From (redirected): https://drive.google.com/uc?%2Fexport=download&id=1vlhZ5c7abUKF8xXERIw6m9Te8fW7ohw3&confirm=t&uuid=80e0e714-b106-4854-ad46-a456a10f8ed1\n",
      "To: c:\\Users\\ayupt\\Desktop\\Data Science Projects\\End to End Deployment\\Kidney-Disease-Classificaion-End-to-End-MLflow-DVC\\artifacts\\data_ingestion\\data.zip\n",
      "100%|██████████| 57.7M/57.7M [00:11<00:00, 4.86MB/s]"
     ]
    },
    {
     "name": "stdout",
     "output_type": "stream",
     "text": [
      "[2025-02-15 12:03:13,274: INFO: 2013711394: Downloaded data from https://drive.google.com/file/d/1vlhZ5c7abUKF8xXERIw6m9Te8fW7ohw3/view?usp=sharing into file artifacts/data_ingestion/data.zip]\n",
      "[2025-02-15 12:03:13,279: INFO: 2013711394: Extracting files to artifacts/data_ingestion]\n"
     ]
    },
    {
     "name": "stderr",
     "output_type": "stream",
     "text": [
      "\n"
     ]
    },
    {
     "name": "stdout",
     "output_type": "stream",
     "text": [
      "[2025-02-15 12:03:14,873: INFO: 2013711394: Extracted files to artifacts/data_ingestion]\n"
     ]
    }
   ],
   "source": [
    "try:\n",
    "    # Initialize the configuration manager to fetch ingestion settings\n",
    "    config = ConfigurationManager()\n",
    "    \n",
    "    # Retrieve the data ingestion configuration settings\n",
    "    data_ingestion_config = config.get_data_ingestion_config()\n",
    "    \n",
    "    # Initialize the DataIngestion class with the retrieved configuration\n",
    "    data_ingestion = DataIngestion(config=data_ingestion_config)\n",
    "    \n",
    "    # Download the required file\n",
    "    data_ingestion.download_file()\n",
    "    \n",
    "    # Extract the contents of the downloaded zip file\n",
    "    data_ingestion.extract_zip_file()\n",
    "    \n",
    "except Exception as e:\n",
    "    # Raise any exceptions encountered during the process\n",
    "    raise e\n"
   ]
  },
  {
   "cell_type": "code",
   "execution_count": null,
   "metadata": {},
   "outputs": [],
   "source": []
  },
  {
   "cell_type": "code",
   "execution_count": null,
   "metadata": {},
   "outputs": [],
   "source": []
  }
 ],
 "metadata": {
  "kernelspec": {
   "display_name": "kidneyproj",
   "language": "python",
   "name": "python3"
  },
  "language_info": {
   "codemirror_mode": {
    "name": "ipython",
    "version": 3
   },
   "file_extension": ".py",
   "mimetype": "text/x-python",
   "name": "python",
   "nbconvert_exporter": "python",
   "pygments_lexer": "ipython3",
   "version": "3.8.20"
  }
 },
 "nbformat": 4,
 "nbformat_minor": 2
}
